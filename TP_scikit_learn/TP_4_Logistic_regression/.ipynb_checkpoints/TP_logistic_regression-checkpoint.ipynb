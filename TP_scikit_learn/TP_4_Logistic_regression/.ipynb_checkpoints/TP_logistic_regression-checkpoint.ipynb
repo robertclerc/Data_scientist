{
 "cells": [
  {
   "cell_type": "code",
   "execution_count": null,
   "id": "b2890fcd",
   "metadata": {},
   "outputs": [],
   "source": [
    "import numpy as np\n",
    "import pandas as pd\n",
    "from sklearn.model_selection import train_test_spli\n",
    "from sklearn import linear_model\n",
    "\n",
    "df = pd.read_excel('C:/Users/rober/OneDrive/Documents/gitperso/Data_scientist/TP_scikit_learn/TP_4_Logistic_regression/data.xlsx')\n",
    "df.head()"
   ]
  },
  {
   "cell_type": "code",
   "execution_count": null,
   "id": "9e8d08bf",
   "metadata": {},
   "outputs": [],
   "source": []
  }
 ],
 "metadata": {
  "kernelspec": {
   "display_name": "Python 3",
   "language": "python",
   "name": "python3"
  },
  "language_info": {
   "codemirror_mode": {
    "name": "ipython",
    "version": 3
   },
   "file_extension": ".py",
   "mimetype": "text/x-python",
   "name": "python",
   "nbconvert_exporter": "python",
   "pygments_lexer": "ipython3",
   "version": "3.8.8"
  }
 },
 "nbformat": 4,
 "nbformat_minor": 5
}
