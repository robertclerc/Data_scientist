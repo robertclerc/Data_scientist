{
 "cells": [
  {
   "cell_type": "code",
   "execution_count": 3,
   "id": "5bb52e6d",
   "metadata": {},
   "outputs": [],
   "source": [
    "import numpy as np\n",
    "import pandas as pd\n",
    "from sklearn.model_selection import train_test_split\n",
    "from sklearn import linear_model"
   ]
  },
  {
   "cell_type": "code",
   "execution_count": 4,
   "id": "b422591b",
   "metadata": {},
   "outputs": [
    {
     "data": {
      "text/html": [
       "<div>\n",
       "<style scoped>\n",
       "    .dataframe tbody tr th:only-of-type {\n",
       "        vertical-align: middle;\n",
       "    }\n",
       "\n",
       "    .dataframe tbody tr th {\n",
       "        vertical-align: top;\n",
       "    }\n",
       "\n",
       "    .dataframe thead th {\n",
       "        text-align: right;\n",
       "    }\n",
       "</style>\n",
       "<table border=\"1\" class=\"dataframe\">\n",
       "  <thead>\n",
       "    <tr style=\"text-align: right;\">\n",
       "      <th></th>\n",
       "      <th>etiquette_fruit</th>\n",
       "      <th>nom_fruit</th>\n",
       "      <th>poids</th>\n",
       "      <th>largeur</th>\n",
       "      <th>hauteur</th>\n",
       "      <th>score-couleur</th>\n",
       "    </tr>\n",
       "  </thead>\n",
       "  <tbody>\n",
       "    <tr>\n",
       "      <th>0</th>\n",
       "      <td>1</td>\n",
       "      <td>pomme</td>\n",
       "      <td>180</td>\n",
       "      <td>8.4</td>\n",
       "      <td>6.8</td>\n",
       "      <td>0.60</td>\n",
       "    </tr>\n",
       "    <tr>\n",
       "      <th>1</th>\n",
       "      <td>1</td>\n",
       "      <td>pomme</td>\n",
       "      <td>198</td>\n",
       "      <td>8.2</td>\n",
       "      <td>7.5</td>\n",
       "      <td>0.55</td>\n",
       "    </tr>\n",
       "    <tr>\n",
       "      <th>2</th>\n",
       "      <td>1</td>\n",
       "      <td>pomme</td>\n",
       "      <td>174</td>\n",
       "      <td>8.0</td>\n",
       "      <td>7.7</td>\n",
       "      <td>0.59</td>\n",
       "    </tr>\n",
       "    <tr>\n",
       "      <th>3</th>\n",
       "      <td>2</td>\n",
       "      <td>mandarine</td>\n",
       "      <td>85</td>\n",
       "      <td>6.0</td>\n",
       "      <td>4.0</td>\n",
       "      <td>0.80</td>\n",
       "    </tr>\n",
       "    <tr>\n",
       "      <th>4</th>\n",
       "      <td>2</td>\n",
       "      <td>mandarine</td>\n",
       "      <td>80</td>\n",
       "      <td>5.8</td>\n",
       "      <td>4.6</td>\n",
       "      <td>0.81</td>\n",
       "    </tr>\n",
       "  </tbody>\n",
       "</table>\n",
       "</div>"
      ],
      "text/plain": [
       "   etiquette_fruit  nom_fruit  poids  largeur  hauteur  score-couleur\n",
       "0                1      pomme    180      8.4      6.8           0.60\n",
       "1                1      pomme    198      8.2      7.5           0.55\n",
       "2                1      pomme    174      8.0      7.7           0.59\n",
       "3                2  mandarine     85      6.0      4.0           0.80\n",
       "4                2  mandarine     80      5.8      4.6           0.81"
      ]
     },
     "execution_count": 4,
     "metadata": {},
     "output_type": "execute_result"
    }
   ],
   "source": [
    "df = pd.read_excel('C://Users//rober//OneDrive//Documents//gitperso//Data_scientist//TP_scikit_learn//TP_4_Logistic_regression//data.xlsx')\n",
    "df.head()"
   ]
  },
  {
   "cell_type": "code",
   "execution_count": 6,
   "id": "4f61840a",
   "metadata": {},
   "outputs": [
    {
     "data": {
      "text/plain": [
       "{1: 'pomme', 2: 'mandarine'}"
      ]
     },
     "execution_count": 6,
     "metadata": {},
     "output_type": "execute_result"
    }
   ],
   "source": [
    "nom_fruit_cible = dict(zip(df.etiquette_fruit.unique(),df.nom_fruit.unique()))\n",
    "nom_fruit_cible"
   ]
  },
  {
   "cell_type": "code",
   "execution_count": null,
   "id": "dbb1f413",
   "metadata": {},
   "outputs": [],
   "source": []
  }
 ],
 "metadata": {
  "kernelspec": {
   "display_name": "Python 3",
   "language": "python",
   "name": "python3"
  },
  "language_info": {
   "codemirror_mode": {
    "name": "ipython",
    "version": 3
   },
   "file_extension": ".py",
   "mimetype": "text/x-python",
   "name": "python",
   "nbconvert_exporter": "python",
   "pygments_lexer": "ipython3",
   "version": "3.8.8"
  }
 },
 "nbformat": 4,
 "nbformat_minor": 5
}
